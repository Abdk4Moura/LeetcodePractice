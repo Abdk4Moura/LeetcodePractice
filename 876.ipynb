{
  "nbformat": 4,
  "nbformat_minor": 0,
  "metadata": {
    "colab": {
      "provenance": [],
      "authorship_tag": "ABX9TyMTZMp/qbxHOphlBx+07bPI",
      "include_colab_link": true
    },
    "kernelspec": {
      "name": "python3",
      "display_name": "Python 3"
    },
    "language_info": {
      "name": "python"
    }
  },
  "cells": [
    {
      "cell_type": "markdown",
      "metadata": {
        "id": "view-in-github",
        "colab_type": "text"
      },
      "source": [
        "<a href=\"https://colab.research.google.com/github/Abdk4Moura/LeetcodePractice/blob/master/876.ipynb\" target=\"_parent\"><img src=\"https://colab.research.google.com/assets/colab-badge.svg\" alt=\"Open In Colab\"/></a>"
      ]
    },
    {
      "cell_type": "code",
      "execution_count": 31,
      "metadata": {
        "id": "Vjr3ahNCMLy3"
      },
      "outputs": [],
      "source": [
        "# Definition for singly-linked list.\n",
        "class ListNode:\n",
        "    def __init__(self, val=0, next=None):\n",
        "        self.val = val\n",
        "        self.next = next\n",
        "        self.tail = self  # Tail reference for efficient push\n",
        "\n",
        "    def push(self, val):\n",
        "        \"\"\"Pushes a new node with the given value to the end of the list.\"\"\"\n",
        "        new_node = ListNode(val)\n",
        "        self.tail.next = new_node\n",
        "        self.tail = new_node  # Update the tail directly\n",
        "        return self\n",
        "\n",
        "    def __str__(self):\n",
        "        \"\"\"Returns a string representation of the linked list in the format 'val1->val2->...' \"\"\"\n",
        "        result = []\n",
        "        current = self\n",
        "        while current:\n",
        "            result.append(str(current.val))\n",
        "            current = current.next\n",
        "        return \" -> \".join(result)\n",
        "\n",
        "    def __repr__(self):\n",
        "        return str(self)\n"
      ]
    },
    {
      "cell_type": "code",
      "source": [],
      "metadata": {
        "id": "cNJvNas-N9-w"
      },
      "execution_count": null,
      "outputs": []
    },
    {
      "cell_type": "code",
      "source": [
        "from typing import Optional\n",
        "\n",
        "class Solution:\n",
        "    def middleNode(self, head: Optional[ListNode]) -> Optional[ListNode]:\n",
        "      dummy = head\n",
        "      arr_store = [dummy]\n",
        "      dummy = dummy.next\n",
        "      while dummy is not None:\n",
        "        arr_store.append(dummy)\n",
        "        dummy = dummy.next\n",
        "      l = len(arr_store)\n",
        "\n",
        "      return arr_store[l // 2]\n",
        ""
      ],
      "metadata": {
        "id": "tmbDZGvEMUxQ"
      },
      "execution_count": 78,
      "outputs": []
    },
    {
      "cell_type": "code",
      "source": [
        "l = ListNode(1).push(3).push(5).push(8).push(10).push(11)\n",
        "\n",
        "print(l)"
      ],
      "metadata": {
        "colab": {
          "base_uri": "https://localhost:8080/"
        },
        "id": "sNzUcZkaNvhy",
        "outputId": "13937236-528a-4a60-a288-b64c51e0f116"
      },
      "execution_count": 67,
      "outputs": [
        {
          "output_type": "stream",
          "name": "stdout",
          "text": [
            "1 -> 3 -> 5 -> 8 -> 10 -> 11\n"
          ]
        }
      ]
    },
    {
      "cell_type": "code",
      "source": [
        "s = Solution().middleNode(l)\n",
        "\n",
        "s"
      ],
      "metadata": {
        "id": "qz_4bn9vQEWv",
        "outputId": "0c935c17-5f8b-48a1-8192-ac22114a1e6f",
        "colab": {
          "base_uri": "https://localhost:8080/"
        }
      },
      "execution_count": 77,
      "outputs": [
        {
          "output_type": "stream",
          "name": "stdout",
          "text": [
            "[1, 3, 5, 8, 10, 11]\n",
            "6\n"
          ]
        },
        {
          "output_type": "execute_result",
          "data": {
            "text/plain": [
              "8 -> 10 -> 11"
            ]
          },
          "metadata": {},
          "execution_count": 77
        }
      ]
    },
    {
      "cell_type": "code",
      "source": [],
      "metadata": {
        "id": "enUQBZ93QQT2"
      },
      "execution_count": null,
      "outputs": []
    }
  ]
}